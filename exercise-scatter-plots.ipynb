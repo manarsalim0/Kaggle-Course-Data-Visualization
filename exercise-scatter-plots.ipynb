{
 "cells": [
  {
   "cell_type": "markdown",
   "id": "47eb779e",
   "metadata": {
    "papermill": {
     "duration": 0.039388,
     "end_time": "2022-02-25T10:16:24.702719",
     "exception": false,
     "start_time": "2022-02-25T10:16:24.663331",
     "status": "completed"
    },
    "tags": []
   },
   "source": [
    "**This notebook is an exercise in the [Data Visualization](https://www.kaggle.com/learn/data-visualization) course.  You can reference the tutorial at [this link](https://www.kaggle.com/alexisbcook/scatter-plots).**\n",
    "\n",
    "---\n"
   ]
  },
  {
   "cell_type": "markdown",
   "id": "6341a34b",
   "metadata": {
    "papermill": {
     "duration": 0.035828,
     "end_time": "2022-02-25T10:16:24.775671",
     "exception": false,
     "start_time": "2022-02-25T10:16:24.739843",
     "status": "completed"
    },
    "tags": []
   },
   "source": [
    "In this exercise, you will use your new knowledge to propose a solution to a real-world scenario.  To succeed, you will need to import data into Python, answer questions using the data, and generate **scatter plots** to understand patterns in the data.\n",
    "\n",
    "## Scenario\n",
    "\n",
    "You work for a major candy producer, and your goal is to write a report that your company can use to guide the design of its next product.  Soon after starting your research, you stumble across this [very interesting dataset](https://fivethirtyeight.com/features/the-ultimate-halloween-candy-power-ranking/) containing results from a fun survey to crowdsource favorite candies.\n",
    "\n",
    "## Setup\n",
    "\n",
    "Run the next cell to import and configure the Python libraries that you need to complete the exercise."
   ]
  },
  {
   "cell_type": "code",
   "execution_count": 1,
   "id": "bc755e2a",
   "metadata": {
    "execution": {
     "iopub.execute_input": "2022-02-25T10:16:24.857303Z",
     "iopub.status.busy": "2022-02-25T10:16:24.855506Z",
     "iopub.status.idle": "2022-02-25T10:16:26.034658Z",
     "shell.execute_reply": "2022-02-25T10:16:26.033880Z",
     "shell.execute_reply.started": "2022-02-25T09:35:45.317494Z"
    },
    "papermill": {
     "duration": 1.22132,
     "end_time": "2022-02-25T10:16:26.034866",
     "exception": false,
     "start_time": "2022-02-25T10:16:24.813546",
     "status": "completed"
    },
    "tags": []
   },
   "outputs": [
    {
     "name": "stdout",
     "output_type": "stream",
     "text": [
      "Setup Complete\n"
     ]
    }
   ],
   "source": [
    "import pandas as pd\n",
    "pd.plotting.register_matplotlib_converters()\n",
    "import matplotlib.pyplot as plt\n",
    "%matplotlib inline\n",
    "import seaborn as sns\n",
    "print(\"Setup Complete\")"
   ]
  },
  {
   "cell_type": "markdown",
   "id": "0563c041",
   "metadata": {
    "papermill": {
     "duration": 0.036596,
     "end_time": "2022-02-25T10:16:26.112011",
     "exception": false,
     "start_time": "2022-02-25T10:16:26.075415",
     "status": "completed"
    },
    "tags": []
   },
   "source": [
    "The questions below will give you feedback on your work. Run the following cell to set up our feedback system."
   ]
  },
  {
   "cell_type": "code",
   "execution_count": 2,
   "id": "3db5032e",
   "metadata": {
    "execution": {
     "iopub.execute_input": "2022-02-25T10:16:26.194624Z",
     "iopub.status.busy": "2022-02-25T10:16:26.193876Z",
     "iopub.status.idle": "2022-02-25T10:16:26.262061Z",
     "shell.execute_reply": "2022-02-25T10:16:26.261200Z",
     "shell.execute_reply.started": "2022-02-25T09:35:46.509Z"
    },
    "papermill": {
     "duration": 0.111726,
     "end_time": "2022-02-25T10:16:26.262264",
     "exception": false,
     "start_time": "2022-02-25T10:16:26.150538",
     "status": "completed"
    },
    "tags": []
   },
   "outputs": [
    {
     "name": "stdout",
     "output_type": "stream",
     "text": [
      "Setup Complete\n"
     ]
    }
   ],
   "source": [
    "# Set up code checking\n",
    "import os\n",
    "if not os.path.exists(\"../input/candy.csv\"):\n",
    "    os.symlink(\"../input/data-for-datavis/candy.csv\", \"../input/candy.csv\") \n",
    "from learntools.core import binder\n",
    "binder.bind(globals())\n",
    "from learntools.data_viz_to_coder.ex4 import *\n",
    "print(\"Setup Complete\")"
   ]
  },
  {
   "cell_type": "markdown",
   "id": "a3b9f1d5",
   "metadata": {
    "papermill": {
     "duration": 0.037957,
     "end_time": "2022-02-25T10:16:26.338754",
     "exception": false,
     "start_time": "2022-02-25T10:16:26.300797",
     "status": "completed"
    },
    "tags": []
   },
   "source": [
    "## Step 1: Load the Data\n",
    "\n",
    "Read the candy data file into `candy_data`.  Use the `\"id\"` column to label the rows."
   ]
  },
  {
   "cell_type": "code",
   "execution_count": 3,
   "id": "423aeef0",
   "metadata": {
    "execution": {
     "iopub.execute_input": "2022-02-25T10:16:26.417309Z",
     "iopub.status.busy": "2022-02-25T10:16:26.416626Z",
     "iopub.status.idle": "2022-02-25T10:16:26.430761Z",
     "shell.execute_reply": "2022-02-25T10:16:26.431260Z",
     "shell.execute_reply.started": "2022-02-25T09:37:28.173054Z"
    },
    "papermill": {
     "duration": 0.055117,
     "end_time": "2022-02-25T10:16:26.431449",
     "exception": false,
     "start_time": "2022-02-25T10:16:26.376332",
     "status": "completed"
    },
    "tags": []
   },
   "outputs": [
    {
     "data": {
      "application/javascript": [
       "parent.postMessage({\"jupyterEvent\": \"custom.exercise_interaction\", \"data\": {\"outcomeType\": 1, \"valueTowardsCompletion\": 0.3333333333333333, \"interactionType\": 1, \"questionType\": 1, \"questionId\": \"1_LoadData\", \"learnToolsVersion\": \"0.3.4\", \"failureMessage\": \"\", \"exceptionClass\": \"\", \"trace\": \"\"}}, \"*\")"
      ],
      "text/plain": [
       "<IPython.core.display.Javascript object>"
      ]
     },
     "metadata": {},
     "output_type": "display_data"
    },
    {
     "data": {
      "text/markdown": [
       "<span style=\"color:#33cc33\">Correct</span>"
      ],
      "text/plain": [
       "Correct"
      ]
     },
     "metadata": {},
     "output_type": "display_data"
    }
   ],
   "source": [
    "# Path of the file to read\n",
    "candy_filepath = \"../input/candy.csv\"\n",
    "\n",
    "# Fill in the line below to read the file into a variable candy_data\n",
    "candy_data = pd.read_csv(candy_filepath,index_col=\"id\")\n",
    "\n",
    "# Run the line below with no changes to check that you've loaded the data correctly\n",
    "step_1.check()"
   ]
  },
  {
   "cell_type": "code",
   "execution_count": 4,
   "id": "1b9e9e4f",
   "metadata": {
    "execution": {
     "iopub.execute_input": "2022-02-25T10:16:26.514312Z",
     "iopub.status.busy": "2022-02-25T10:16:26.513615Z",
     "iopub.status.idle": "2022-02-25T10:16:26.515580Z",
     "shell.execute_reply": "2022-02-25T10:16:26.516061Z",
     "shell.execute_reply.started": "2022-02-25T09:37:31.674626Z"
    },
    "papermill": {
     "duration": 0.045163,
     "end_time": "2022-02-25T10:16:26.516228",
     "exception": false,
     "start_time": "2022-02-25T10:16:26.471065",
     "status": "completed"
    },
    "tags": []
   },
   "outputs": [],
   "source": [
    "# Lines below will give you a hint or solution code\n",
    "#step_1.hint()\n",
    "#step_1.solution()"
   ]
  },
  {
   "cell_type": "markdown",
   "id": "3fecbb9e",
   "metadata": {
    "papermill": {
     "duration": 0.037751,
     "end_time": "2022-02-25T10:16:26.594958",
     "exception": false,
     "start_time": "2022-02-25T10:16:26.557207",
     "status": "completed"
    },
    "tags": []
   },
   "source": [
    "## Step 2: Review the data\n",
    "\n",
    "Use a Python command to print the first five rows of the data."
   ]
  },
  {
   "cell_type": "code",
   "execution_count": 5,
   "id": "c7bdfc63",
   "metadata": {
    "execution": {
     "iopub.execute_input": "2022-02-25T10:16:26.681014Z",
     "iopub.status.busy": "2022-02-25T10:16:26.677738Z",
     "iopub.status.idle": "2022-02-25T10:16:26.701624Z",
     "shell.execute_reply": "2022-02-25T10:16:26.702289Z",
     "shell.execute_reply.started": "2022-02-25T09:38:03.529972Z"
    },
    "papermill": {
     "duration": 0.066998,
     "end_time": "2022-02-25T10:16:26.702505",
     "exception": false,
     "start_time": "2022-02-25T10:16:26.635507",
     "status": "completed"
    },
    "tags": []
   },
   "outputs": [
    {
     "data": {
      "text/html": [
       "<div>\n",
       "<style scoped>\n",
       "    .dataframe tbody tr th:only-of-type {\n",
       "        vertical-align: middle;\n",
       "    }\n",
       "\n",
       "    .dataframe tbody tr th {\n",
       "        vertical-align: top;\n",
       "    }\n",
       "\n",
       "    .dataframe thead th {\n",
       "        text-align: right;\n",
       "    }\n",
       "</style>\n",
       "<table border=\"1\" class=\"dataframe\">\n",
       "  <thead>\n",
       "    <tr style=\"text-align: right;\">\n",
       "      <th></th>\n",
       "      <th>competitorname</th>\n",
       "      <th>chocolate</th>\n",
       "      <th>fruity</th>\n",
       "      <th>caramel</th>\n",
       "      <th>peanutyalmondy</th>\n",
       "      <th>nougat</th>\n",
       "      <th>crispedricewafer</th>\n",
       "      <th>hard</th>\n",
       "      <th>bar</th>\n",
       "      <th>pluribus</th>\n",
       "      <th>sugarpercent</th>\n",
       "      <th>pricepercent</th>\n",
       "      <th>winpercent</th>\n",
       "    </tr>\n",
       "    <tr>\n",
       "      <th>id</th>\n",
       "      <th></th>\n",
       "      <th></th>\n",
       "      <th></th>\n",
       "      <th></th>\n",
       "      <th></th>\n",
       "      <th></th>\n",
       "      <th></th>\n",
       "      <th></th>\n",
       "      <th></th>\n",
       "      <th></th>\n",
       "      <th></th>\n",
       "      <th></th>\n",
       "      <th></th>\n",
       "    </tr>\n",
       "  </thead>\n",
       "  <tbody>\n",
       "    <tr>\n",
       "      <th>0</th>\n",
       "      <td>100 Grand</td>\n",
       "      <td>Yes</td>\n",
       "      <td>No</td>\n",
       "      <td>Yes</td>\n",
       "      <td>No</td>\n",
       "      <td>No</td>\n",
       "      <td>Yes</td>\n",
       "      <td>No</td>\n",
       "      <td>Yes</td>\n",
       "      <td>No</td>\n",
       "      <td>0.732</td>\n",
       "      <td>0.860</td>\n",
       "      <td>66.971725</td>\n",
       "    </tr>\n",
       "    <tr>\n",
       "      <th>1</th>\n",
       "      <td>3 Musketeers</td>\n",
       "      <td>Yes</td>\n",
       "      <td>No</td>\n",
       "      <td>No</td>\n",
       "      <td>No</td>\n",
       "      <td>Yes</td>\n",
       "      <td>No</td>\n",
       "      <td>No</td>\n",
       "      <td>Yes</td>\n",
       "      <td>No</td>\n",
       "      <td>0.604</td>\n",
       "      <td>0.511</td>\n",
       "      <td>67.602936</td>\n",
       "    </tr>\n",
       "    <tr>\n",
       "      <th>2</th>\n",
       "      <td>Air Heads</td>\n",
       "      <td>No</td>\n",
       "      <td>Yes</td>\n",
       "      <td>No</td>\n",
       "      <td>No</td>\n",
       "      <td>No</td>\n",
       "      <td>No</td>\n",
       "      <td>No</td>\n",
       "      <td>No</td>\n",
       "      <td>No</td>\n",
       "      <td>0.906</td>\n",
       "      <td>0.511</td>\n",
       "      <td>52.341465</td>\n",
       "    </tr>\n",
       "    <tr>\n",
       "      <th>3</th>\n",
       "      <td>Almond Joy</td>\n",
       "      <td>Yes</td>\n",
       "      <td>No</td>\n",
       "      <td>No</td>\n",
       "      <td>Yes</td>\n",
       "      <td>No</td>\n",
       "      <td>No</td>\n",
       "      <td>No</td>\n",
       "      <td>Yes</td>\n",
       "      <td>No</td>\n",
       "      <td>0.465</td>\n",
       "      <td>0.767</td>\n",
       "      <td>50.347546</td>\n",
       "    </tr>\n",
       "    <tr>\n",
       "      <th>4</th>\n",
       "      <td>Baby Ruth</td>\n",
       "      <td>Yes</td>\n",
       "      <td>No</td>\n",
       "      <td>Yes</td>\n",
       "      <td>Yes</td>\n",
       "      <td>Yes</td>\n",
       "      <td>No</td>\n",
       "      <td>No</td>\n",
       "      <td>Yes</td>\n",
       "      <td>No</td>\n",
       "      <td>0.604</td>\n",
       "      <td>0.767</td>\n",
       "      <td>56.914547</td>\n",
       "    </tr>\n",
       "  </tbody>\n",
       "</table>\n",
       "</div>"
      ],
      "text/plain": [
       "   competitorname chocolate fruity caramel peanutyalmondy nougat  \\\n",
       "id                                                                 \n",
       "0       100 Grand       Yes     No     Yes             No     No   \n",
       "1    3 Musketeers       Yes     No      No             No    Yes   \n",
       "2       Air Heads        No    Yes      No             No     No   \n",
       "3      Almond Joy       Yes     No      No            Yes     No   \n",
       "4       Baby Ruth       Yes     No     Yes            Yes    Yes   \n",
       "\n",
       "   crispedricewafer hard  bar pluribus  sugarpercent  pricepercent  winpercent  \n",
       "id                                                                              \n",
       "0               Yes   No  Yes       No         0.732         0.860   66.971725  \n",
       "1                No   No  Yes       No         0.604         0.511   67.602936  \n",
       "2                No   No   No       No         0.906         0.511   52.341465  \n",
       "3                No   No  Yes       No         0.465         0.767   50.347546  \n",
       "4                No   No  Yes       No         0.604         0.767   56.914547  "
      ]
     },
     "execution_count": 5,
     "metadata": {},
     "output_type": "execute_result"
    }
   ],
   "source": [
    "# Print the first five rows of the data\n",
    "candy_data.head() # Your code here"
   ]
  },
  {
   "cell_type": "markdown",
   "id": "141b993e",
   "metadata": {
    "papermill": {
     "duration": 0.047026,
     "end_time": "2022-02-25T10:16:26.803189",
     "exception": false,
     "start_time": "2022-02-25T10:16:26.756163",
     "status": "completed"
    },
    "tags": []
   },
   "source": [
    "The dataset contains 83 rows, where each corresponds to a different candy bar.  There are 13 columns:\n",
    "- `'competitorname'` contains the name of the candy bar. \n",
    "- the next **9** columns (from `'chocolate'` to `'pluribus'`) describe the candy.  For instance, rows with chocolate candies have `\"Yes\"` in the `'chocolate'` column (and candies without chocolate have `\"No\"` in the same column).\n",
    "- `'sugarpercent'` provides some indication of the amount of sugar, where higher values signify higher sugar content.\n",
    "- `'pricepercent'` shows the price per unit, relative to the other candies in the dataset.\n",
    "- `'winpercent'` is calculated from the survey results; higher values indicate that the candy was more popular with survey respondents.\n",
    "\n",
    "Use the first five rows of the data to answer the questions below."
   ]
  },
  {
   "cell_type": "code",
   "execution_count": 6,
   "id": "b917236d",
   "metadata": {
    "execution": {
     "iopub.execute_input": "2022-02-25T10:16:26.895174Z",
     "iopub.status.busy": "2022-02-25T10:16:26.894276Z",
     "iopub.status.idle": "2022-02-25T10:16:26.912149Z",
     "shell.execute_reply": "2022-02-25T10:16:26.913029Z",
     "shell.execute_reply.started": "2022-02-25T09:42:28.647774Z"
    },
    "papermill": {
     "duration": 0.063934,
     "end_time": "2022-02-25T10:16:26.913222",
     "exception": false,
     "start_time": "2022-02-25T10:16:26.849288",
     "status": "completed"
    },
    "tags": []
   },
   "outputs": [
    {
     "data": {
      "application/javascript": [
       "parent.postMessage({\"jupyterEvent\": \"custom.exercise_interaction\", \"data\": {\"outcomeType\": 1, \"valueTowardsCompletion\": 0.3333333333333333, \"interactionType\": 1, \"questionType\": 1, \"questionId\": \"2_ReviewData\", \"learnToolsVersion\": \"0.3.4\", \"failureMessage\": \"\", \"exceptionClass\": \"\", \"trace\": \"\"}}, \"*\")"
      ],
      "text/plain": [
       "<IPython.core.display.Javascript object>"
      ]
     },
     "metadata": {},
     "output_type": "display_data"
    },
    {
     "data": {
      "text/markdown": [
       "<span style=\"color:#33cc33\">Correct</span>"
      ],
      "text/plain": [
       "Correct"
      ]
     },
     "metadata": {},
     "output_type": "display_data"
    }
   ],
   "source": [
    "# Fill in the line below: Which candy was more popular with survey respondents:\n",
    "# '3 Musketeers' or 'Almond Joy'?  (Please enclose your answer in single quotes.)\n",
    "more_popular = \"3 Musketeers\"\n",
    "\n",
    "# Fill in the line below: Which candy has higher sugar content: 'Air Heads'\n",
    "# or 'Baby Ruth'? (Please enclose your answer in single quotes.)\n",
    "more_sugar = \"Air Heads\"\n",
    "\n",
    "# Check your answers\n",
    "step_2.check()"
   ]
  },
  {
   "cell_type": "code",
   "execution_count": 7,
   "id": "f7490a19",
   "metadata": {
    "execution": {
     "iopub.execute_input": "2022-02-25T10:16:27.013603Z",
     "iopub.status.busy": "2022-02-25T10:16:27.012540Z",
     "iopub.status.idle": "2022-02-25T10:16:27.014474Z",
     "shell.execute_reply": "2022-02-25T10:16:27.015091Z",
     "shell.execute_reply.started": "2022-02-25T09:42:34.074912Z"
    },
    "papermill": {
     "duration": 0.056745,
     "end_time": "2022-02-25T10:16:27.015258",
     "exception": false,
     "start_time": "2022-02-25T10:16:26.958513",
     "status": "completed"
    },
    "tags": []
   },
   "outputs": [],
   "source": [
    "# Lines below will give you a hint or solution code\n",
    "#step_2.hint()\n",
    "#step_2.solution()"
   ]
  },
  {
   "cell_type": "markdown",
   "id": "b395ae33",
   "metadata": {
    "papermill": {
     "duration": 0.041475,
     "end_time": "2022-02-25T10:16:27.103073",
     "exception": false,
     "start_time": "2022-02-25T10:16:27.061598",
     "status": "completed"
    },
    "tags": []
   },
   "source": [
    "## Step 3: The role of sugar\n",
    "\n",
    "Do people tend to prefer candies with higher sugar content?  \n",
    "\n",
    "#### Part A\n",
    "\n",
    "Create a scatter plot that shows the relationship between `'sugarpercent'` (on the horizontal x-axis) and `'winpercent'` (on the vertical y-axis).  _Don't add a regression line just yet -- you'll do that in the next step!_"
   ]
  },
  {
   "cell_type": "code",
   "execution_count": 8,
   "id": "a36010ac",
   "metadata": {
    "execution": {
     "iopub.execute_input": "2022-02-25T10:16:27.187462Z",
     "iopub.status.busy": "2022-02-25T10:16:27.186424Z",
     "iopub.status.idle": "2022-02-25T10:16:27.479979Z",
     "shell.execute_reply": "2022-02-25T10:16:27.479152Z",
     "shell.execute_reply.started": "2022-02-25T09:44:02.55902Z"
    },
    "papermill": {
     "duration": 0.336703,
     "end_time": "2022-02-25T10:16:27.480191",
     "exception": false,
     "start_time": "2022-02-25T10:16:27.143488",
     "status": "completed"
    },
    "tags": []
   },
   "outputs": [
    {
     "data": {
      "application/javascript": [
       "parent.postMessage({\"jupyterEvent\": \"custom.exercise_interaction\", \"data\": {\"outcomeType\": 1, \"valueTowardsCompletion\": 0.3333333333333333, \"interactionType\": 1, \"questionType\": 2, \"questionId\": \"3.1_PlotBlueScatter\", \"learnToolsVersion\": \"0.3.4\", \"failureMessage\": \"\", \"exceptionClass\": \"\", \"trace\": \"\"}}, \"*\")"
      ],
      "text/plain": [
       "<IPython.core.display.Javascript object>"
      ]
     },
     "metadata": {},
     "output_type": "display_data"
    },
    {
     "data": {
      "text/markdown": [
       "<span style=\"color:#33cc33\">Correct</span>"
      ],
      "text/plain": [
       "Correct"
      ]
     },
     "metadata": {},
     "output_type": "display_data"
    },
    {
     "data": {
      "image/png": "[encoded data removed]",
      "text/plain": [
       "<Figure size 432x288 with 1 Axes>"
      ]
     },
     "metadata": {
      "needs_background": "light"
     },
     "output_type": "display_data"
    }
   ],
   "source": [
    "# Scatter plot showing the relationship between 'sugarpercent' and 'winpercent'\n",
    "sns.scatterplot(x=candy_data['sugarpercent'], y=candy_data['winpercent']) # Your code here\n",
    "\n",
    "# Check your answer\n",
    "step_3.a.check()"
   ]
  },
  {
   "cell_type": "code",
   "execution_count": 9,
   "id": "b3a6829f",
   "metadata": {
    "execution": {
     "iopub.execute_input": "2022-02-25T10:16:27.578709Z",
     "iopub.status.busy": "2022-02-25T10:16:27.577876Z",
     "iopub.status.idle": "2022-02-25T10:16:27.579864Z",
     "shell.execute_reply": "2022-02-25T10:16:27.580449Z",
     "shell.execute_reply.started": "2022-02-25T09:46:10.638387Z"
    },
    "papermill": {
     "duration": 0.051312,
     "end_time": "2022-02-25T10:16:27.580620",
     "exception": false,
     "start_time": "2022-02-25T10:16:27.529308",
     "status": "completed"
    },
    "tags": []
   },
   "outputs": [],
   "source": [
    "# Lines below will give you a hint or solution code\n",
    "#step_3.a.hint()\n",
    "#step_3.a.solution_plot()"
   ]
  },
  {
   "cell_type": "markdown",
   "id": "3c43b3e1",
   "metadata": {
    "papermill": {
     "duration": 0.043603,
     "end_time": "2022-02-25T10:16:27.666711",
     "exception": false,
     "start_time": "2022-02-25T10:16:27.623108",
     "status": "completed"
    },
    "tags": []
   },
   "source": [
    "#### Part B\n",
    "\n",
    "Does the scatter plot show a **strong** correlation between the two variables?  If so, are candies with more sugar relatively more or less popular with the survey respondents?"
   ]
  },
  {
   "cell_type": "code",
   "execution_count": 10,
   "id": "56fe75f7",
   "metadata": {
    "execution": {
     "iopub.execute_input": "2022-02-25T10:16:27.757418Z",
     "iopub.status.busy": "2022-02-25T10:16:27.756690Z",
     "iopub.status.idle": "2022-02-25T10:16:27.763866Z",
     "shell.execute_reply": "2022-02-25T10:16:27.764340Z",
     "shell.execute_reply.started": "2022-02-25T09:46:15.659879Z"
    },
    "papermill": {
     "duration": 0.053103,
     "end_time": "2022-02-25T10:16:27.764534",
     "exception": false,
     "start_time": "2022-02-25T10:16:27.711431",
     "status": "completed"
    },
    "tags": []
   },
   "outputs": [
    {
     "data": {
      "application/javascript": [
       "parent.postMessage({\"jupyterEvent\": \"custom.exercise_interaction\", \"data\": {\"interactionType\": 2, \"questionType\": 4, \"questionId\": \"3.2_ThinkBlueScatter\", \"learnToolsVersion\": \"0.3.4\", \"valueTowardsCompletion\": 0.0, \"failureMessage\": \"\", \"exceptionClass\": \"\", \"trace\": \"\", \"outcomeType\": 4}}, \"*\")"
      ],
      "text/plain": [
       "<IPython.core.display.Javascript object>"
      ]
     },
     "metadata": {},
     "output_type": "display_data"
    },
    {
     "data": {
      "text/markdown": [
       "<span style=\"color:#3366cc\">Hint:</span> Compare candies with higher sugar content (on the right side of the chart) to candies with lower sugar content (on the left side of the chart). Is one group clearly more popular than the other?"
      ],
      "text/plain": [
       "Hint: Compare candies with higher sugar content (on the right side of the chart) to candies with lower sugar content (on the left side of the chart). Is one group clearly more popular than the other?"
      ]
     },
     "metadata": {},
     "output_type": "display_data"
    }
   ],
   "source": [
    "step_3.b.hint()"
   ]
  },
  {
   "cell_type": "code",
   "execution_count": 11,
   "id": "e9af90f1",
   "metadata": {
    "execution": {
     "iopub.execute_input": "2022-02-25T10:16:27.863104Z",
     "iopub.status.busy": "2022-02-25T10:16:27.860044Z",
     "iopub.status.idle": "2022-02-25T10:16:27.867828Z",
     "shell.execute_reply": "2022-02-25T10:16:27.868434Z",
     "shell.execute_reply.started": "2022-02-25T09:46:21.440026Z"
    },
    "papermill": {
     "duration": 0.059589,
     "end_time": "2022-02-25T10:16:27.868607",
     "exception": false,
     "start_time": "2022-02-25T10:16:27.809018",
     "status": "completed"
    },
    "tags": []
   },
   "outputs": [
    {
     "data": {
      "application/javascript": [
       "parent.postMessage({\"jupyterEvent\": \"custom.exercise_interaction\", \"data\": {\"interactionType\": 3, \"questionType\": 4, \"questionId\": \"3.2_ThinkBlueScatter\", \"learnToolsVersion\": \"0.3.4\", \"valueTowardsCompletion\": 0.0, \"failureMessage\": \"\", \"exceptionClass\": \"\", \"trace\": \"\", \"outcomeType\": 4}}, \"*\")"
      ],
      "text/plain": [
       "<IPython.core.display.Javascript object>"
      ]
     },
     "metadata": {},
     "output_type": "display_data"
    },
    {
     "data": {
      "text/markdown": [
       "<span style=\"color:#33cc99\">Solution:</span> The scatter plot does not show a strong correlation between the two variables. Since there is no clear relationship between the two variables, this tells us that sugar content does not play a strong role in candy popularity."
      ],
      "text/plain": [
       "Solution: The scatter plot does not show a strong correlation between the two variables. Since there is no clear relationship between the two variables, this tells us that sugar content does not play a strong role in candy popularity."
      ]
     },
     "metadata": {},
     "output_type": "display_data"
    }
   ],
   "source": [
    "# Check your answer (Run this code cell to receive credit!)\n",
    "step_3.b.solution()"
   ]
  },
  {
   "cell_type": "markdown",
   "id": "c548d4b8",
   "metadata": {
    "papermill": {
     "duration": 0.044608,
     "end_time": "2022-02-25T10:16:27.957207",
     "exception": false,
     "start_time": "2022-02-25T10:16:27.912599",
     "status": "completed"
    },
    "tags": []
   },
   "source": [
    "## Step 4: Take a closer look\n",
    "\n",
    "#### Part A\n",
    "\n",
    "Create the same scatter plot you created in **Step 3**, but now with a regression line!"
   ]
  },
  {
   "cell_type": "code",
   "execution_count": 12,
   "id": "c306c9ac",
   "metadata": {
    "execution": {
     "iopub.execute_input": "2022-02-25T10:16:28.062527Z",
     "iopub.status.busy": "2022-02-25T10:16:28.061765Z",
     "iopub.status.idle": "2022-02-25T10:16:28.352278Z",
     "shell.execute_reply": "2022-02-25T10:16:28.352805Z",
     "shell.execute_reply.started": "2022-02-25T09:47:07.06316Z"
    },
    "papermill": {
     "duration": 0.351982,
     "end_time": "2022-02-25T10:16:28.353137",
     "exception": false,
     "start_time": "2022-02-25T10:16:28.001155",
     "status": "completed"
    },
    "tags": []
   },
   "outputs": [
    {
     "data": {
      "application/javascript": [
       "parent.postMessage({\"jupyterEvent\": \"custom.exercise_interaction\", \"data\": {\"outcomeType\": 1, \"valueTowardsCompletion\": 0.3333333333333333, \"interactionType\": 1, \"questionType\": 2, \"questionId\": \"4.1_PlotBlueReg\", \"learnToolsVersion\": \"0.3.4\", \"failureMessage\": \"\", \"exceptionClass\": \"\", \"trace\": \"\"}}, \"*\")"
      ],
      "text/plain": [
       "<IPython.core.display.Javascript object>"
      ]
     },
     "metadata": {},
     "output_type": "display_data"
    },
    {
     "data": {
      "text/markdown": [
       "<span style=\"color:#33cc33\">Correct</span>"
      ],
      "text/plain": [
       "Correct"
      ]
     },
     "metadata": {},
     "output_type": "display_data"
    },
    {
     "data": {
      "image/png": "[encoded data removed]",
      "text/plain": [
       "<Figure size 432x288 with 1 Axes>"
      ]
     },
     "metadata": {
      "needs_background": "light"
     },
     "output_type": "display_data"
    }
   ],
   "source": [
    "# Scatter plot w/ regression line showing the relationship between 'sugarpercent' and 'winpercent'\n",
    "sns.regplot(x=candy_data['sugarpercent'], y=candy_data['winpercent']) # Your code here\n",
    "\n",
    "# Check your answer\n",
    "step_4.a.check()"
   ]
  },
  {
   "cell_type": "code",
   "execution_count": 13,
   "id": "d1fd13de",
   "metadata": {
    "execution": {
     "iopub.execute_input": "2022-02-25T10:16:28.451261Z",
     "iopub.status.busy": "2022-02-25T10:16:28.450557Z",
     "iopub.status.idle": "2022-02-25T10:16:28.454083Z",
     "shell.execute_reply": "2022-02-25T10:16:28.453402Z",
     "shell.execute_reply.started": "2022-02-25T09:47:28.558111Z"
    },
    "papermill": {
     "duration": 0.054619,
     "end_time": "2022-02-25T10:16:28.454237",
     "exception": false,
     "start_time": "2022-02-25T10:16:28.399618",
     "status": "completed"
    },
    "tags": []
   },
   "outputs": [],
   "source": [
    "# Lines below will give you a hint or solution code\n",
    "#step_4.a.hint()\n",
    "#step_4.a.solution_plot()"
   ]
  },
  {
   "cell_type": "markdown",
   "id": "bedfd954",
   "metadata": {
    "papermill": {
     "duration": 0.047258,
     "end_time": "2022-02-25T10:16:28.548614",
     "exception": false,
     "start_time": "2022-02-25T10:16:28.501356",
     "status": "completed"
    },
    "tags": []
   },
   "source": [
    "#### Part B\n",
    "\n",
    "According to the plot above, is there a **slight** correlation between `'winpercent'` and `'sugarpercent'`?  What does this tell you about the candy that people tend to prefer?"
   ]
  },
  {
   "cell_type": "code",
   "execution_count": 14,
   "id": "c4ee4079",
   "metadata": {
    "execution": {
     "iopub.execute_input": "2022-02-25T10:16:28.651668Z",
     "iopub.status.busy": "2022-02-25T10:16:28.650944Z",
     "iopub.status.idle": "2022-02-25T10:16:28.654015Z",
     "shell.execute_reply": "2022-02-25T10:16:28.654581Z",
     "shell.execute_reply.started": "2022-02-25T09:47:56.134248Z"
    },
    "papermill": {
     "duration": 0.054675,
     "end_time": "2022-02-25T10:16:28.654756",
     "exception": false,
     "start_time": "2022-02-25T10:16:28.600081",
     "status": "completed"
    },
    "tags": []
   },
   "outputs": [],
   "source": [
    "#step_4.b.hint()"
   ]
  },
  {
   "cell_type": "code",
   "execution_count": 15,
   "id": "31d7e1b7",
   "metadata": {
    "execution": {
     "iopub.execute_input": "2022-02-25T10:16:28.757031Z",
     "iopub.status.busy": "2022-02-25T10:16:28.756165Z",
     "iopub.status.idle": "2022-02-25T10:16:28.763776Z",
     "shell.execute_reply": "2022-02-25T10:16:28.763202Z",
     "shell.execute_reply.started": "2022-02-25T09:47:59.238731Z"
    },
    "papermill": {
     "duration": 0.059542,
     "end_time": "2022-02-25T10:16:28.763929",
     "exception": false,
     "start_time": "2022-02-25T10:16:28.704387",
     "status": "completed"
    },
    "tags": []
   },
   "outputs": [
    {
     "data": {
      "application/javascript": [
       "parent.postMessage({\"jupyterEvent\": \"custom.exercise_interaction\", \"data\": {\"interactionType\": 3, \"questionType\": 4, \"questionId\": \"4.2_ThinkBlueReg\", \"learnToolsVersion\": \"0.3.4\", \"valueTowardsCompletion\": 0.0, \"failureMessage\": \"\", \"exceptionClass\": \"\", \"trace\": \"\", \"outcomeType\": 4}}, \"*\")"
      ],
      "text/plain": [
       "<IPython.core.display.Javascript object>"
      ]
     },
     "metadata": {},
     "output_type": "display_data"
    },
    {
     "data": {
      "text/markdown": [
       "<span style=\"color:#33cc99\">Solution:</span> Since the regression line has a slightly positive slope, this tells us that there is a slightly positive correlation between `'winpercent'` and `'sugarpercent'`. Thus, people have a slight preference for candies containing relatively more sugar."
      ],
      "text/plain": [
       "Solution: Since the regression line has a slightly positive slope, this tells us that there is a slightly positive correlation between `'winpercent'` and `'sugarpercent'`. Thus, people have a slight preference for candies containing relatively more sugar."
      ]
     },
     "metadata": {},
     "output_type": "display_data"
    }
   ],
   "source": [
    "# Check your answer (Run this code cell to receive credit!)\n",
    "step_4.b.solution()"
   ]
  },
  {
   "cell_type": "markdown",
   "id": "f70aeebb",
   "metadata": {
    "papermill": {
     "duration": 0.051144,
     "end_time": "2022-02-25T10:16:28.864501",
     "exception": false,
     "start_time": "2022-02-25T10:16:28.813357",
     "status": "completed"
    },
    "tags": []
   },
   "source": [
    "## Step 5: Chocolate!\n",
    "\n",
    "In the code cell below, create a scatter plot to show the relationship between `'pricepercent'` (on the horizontal x-axis) and `'winpercent'` (on the vertical y-axis). Use the `'chocolate'` column to color-code the points.  _Don't add any regression lines just yet -- you'll do that in the next step!_"
   ]
  },
  {
   "cell_type": "code",
   "execution_count": 16,
   "id": "5078e101",
   "metadata": {
    "execution": {
     "iopub.execute_input": "2022-02-25T10:16:28.972613Z",
     "iopub.status.busy": "2022-02-25T10:16:28.971714Z",
     "iopub.status.idle": "2022-02-25T10:16:29.283844Z",
     "shell.execute_reply": "2022-02-25T10:16:29.283249Z",
     "shell.execute_reply.started": "2022-02-25T09:58:28.219857Z"
    },
    "papermill": {
     "duration": 0.371406,
     "end_time": "2022-02-25T10:16:29.284010",
     "exception": false,
     "start_time": "2022-02-25T10:16:28.912604",
     "status": "completed"
    },
    "tags": []
   },
   "outputs": [
    {
     "data": {
      "application/javascript": [
       "parent.postMessage({\"jupyterEvent\": \"custom.exercise_interaction\", \"data\": {\"outcomeType\": 1, \"valueTowardsCompletion\": 0.3333333333333333, \"interactionType\": 1, \"questionType\": 2, \"questionId\": \"5_ColorScatter\", \"learnToolsVersion\": \"0.3.4\", \"failureMessage\": \"\", \"exceptionClass\": \"\", \"trace\": \"\"}}, \"*\")"
      ],
      "text/plain": [
       "<IPython.core.display.Javascript object>"
      ]
     },
     "metadata": {},
     "output_type": "display_data"
    },
    {
     "data": {
      "text/markdown": [
       "<span style=\"color:#33cc33\">Correct</span>"
      ],
      "text/plain": [
       "Correct"
      ]
     },
     "metadata": {},
     "output_type": "display_data"
    },
    {
     "data": {
      "image/png": "[encoded data removed]",
      "text/plain": [
       "<Figure size 432x288 with 1 Axes>"
      ]
     },
     "metadata": {
      "needs_background": "light"
     },
     "output_type": "display_data"
    }
   ],
   "source": [
    "# Scatter plot showing the relationship between 'pricepercent', 'winpercent', and 'chocolate'\n",
    "sns.scatterplot(x=candy_data['sugarpercent'], y=candy_data['winpercent'],hue=candy_data['chocolate']) # Your code here\n",
    "\n",
    "# Check your answer\n",
    "step_5.check()"
   ]
  },
  {
   "cell_type": "code",
   "execution_count": 17,
   "id": "b524045b",
   "metadata": {
    "execution": {
     "iopub.execute_input": "2022-02-25T10:16:29.391596Z",
     "iopub.status.busy": "2022-02-25T10:16:29.390762Z",
     "iopub.status.idle": "2022-02-25T10:16:29.393557Z",
     "shell.execute_reply": "2022-02-25T10:16:29.394093Z",
     "shell.execute_reply.started": "2022-02-25T09:59:01.63589Z"
    },
    "papermill": {
     "duration": 0.058059,
     "end_time": "2022-02-25T10:16:29.394273",
     "exception": false,
     "start_time": "2022-02-25T10:16:29.336214",
     "status": "completed"
    },
    "tags": []
   },
   "outputs": [],
   "source": [
    "# Lines below will give you a hint or solution code\n",
    "#step_5.hint()\n",
    "#step_5.solution_plot()"
   ]
  },
  {
   "cell_type": "markdown",
   "id": "cf8602ea",
   "metadata": {
    "papermill": {
     "duration": 0.053035,
     "end_time": "2022-02-25T10:16:29.499580",
     "exception": false,
     "start_time": "2022-02-25T10:16:29.446545",
     "status": "completed"
    },
    "tags": []
   },
   "source": [
    "Can you see any interesting patterns in the scatter plot?  We'll investigate this plot further  by adding regression lines in the next step!\n",
    "\n",
    "## Step 6: Investigate chocolate\n",
    "\n",
    "#### Part A\n",
    "\n",
    "Create the same scatter plot you created in **Step 5**, but now with two regression lines, corresponding to (1) chocolate candies and (2) candies without chocolate."
   ]
  },
  {
   "cell_type": "code",
   "execution_count": 18,
   "id": "75b2cf14",
   "metadata": {
    "execution": {
     "iopub.execute_input": "2022-02-25T10:16:29.604965Z",
     "iopub.status.busy": "2022-02-25T10:16:29.604248Z",
     "iopub.status.idle": "2022-02-25T10:16:30.313571Z",
     "shell.execute_reply": "2022-02-25T10:16:30.314123Z",
     "shell.execute_reply.started": "2022-02-25T10:01:26.859767Z"
    },
    "papermill": {
     "duration": 0.764442,
     "end_time": "2022-02-25T10:16:30.314293",
     "exception": false,
     "start_time": "2022-02-25T10:16:29.549851",
     "status": "completed"
    },
    "tags": []
   },
   "outputs": [
    {
     "data": {
      "application/javascript": [
       "parent.postMessage({\"jupyterEvent\": \"custom.exercise_interaction\", \"data\": {\"outcomeType\": 1, \"valueTowardsCompletion\": 0.3333333333333333, \"interactionType\": 1, \"questionType\": 2, \"questionId\": \"6.1_PlotColorReg\", \"learnToolsVersion\": \"0.3.4\", \"failureMessage\": \"\", \"exceptionClass\": \"\", \"trace\": \"\"}}, \"*\")"
      ],
      "text/plain": [
       "<IPython.core.display.Javascript object>"
      ]
     },
     "metadata": {},
     "output_type": "display_data"
    },
    {
     "data": {
      "text/markdown": [
       "<span style=\"color:#33cc33\">Correct</span>"
      ],
      "text/plain": [
       "Correct"
      ]
     },
     "metadata": {},
     "output_type": "display_data"
    },
    {
     "data": {
      "image/png": "[encoded data removed]",
      "text/plain": [
       "<Figure size 416.375x360 with 1 Axes>"
      ]
     },
     "metadata": {
      "needs_background": "light"
     },
     "output_type": "display_data"
    }
   ],
   "source": [
    "# Color-coded scatter plot w/ regression lines\n",
    "sns.lmplot(x='sugarpercent', y='winpercent',hue='chocolate',data=candy_data) # Your code here\n",
    "\n",
    "# Check your answer\n",
    "step_6.a.check()"
   ]
  },
  {
   "cell_type": "code",
   "execution_count": 19,
   "id": "7297f398",
   "metadata": {
    "execution": {
     "iopub.execute_input": "2022-02-25T10:16:30.425489Z",
     "iopub.status.busy": "2022-02-25T10:16:30.424437Z",
     "iopub.status.idle": "2022-02-25T10:16:30.428118Z",
     "shell.execute_reply": "2022-02-25T10:16:30.428724Z",
     "shell.execute_reply.started": "2022-02-25T10:01:38.154344Z"
    },
    "papermill": {
     "duration": 0.06086,
     "end_time": "2022-02-25T10:16:30.428908",
     "exception": false,
     "start_time": "2022-02-25T10:16:30.368048",
     "status": "completed"
    },
    "tags": []
   },
   "outputs": [],
   "source": [
    "# Lines below will give you a hint or solution code\n",
    "#step_6.a.hint()\n",
    "#step_6.a.solution_plot()"
   ]
  },
  {
   "cell_type": "markdown",
   "id": "289240fb",
   "metadata": {
    "papermill": {
     "duration": 0.051939,
     "end_time": "2022-02-25T10:16:30.534014",
     "exception": false,
     "start_time": "2022-02-25T10:16:30.482075",
     "status": "completed"
    },
    "tags": []
   },
   "source": [
    "#### Part B\n",
    "\n",
    "Using the regression lines, what conclusions can you draw about the effects of chocolate and price on candy popularity?"
   ]
  },
  {
   "cell_type": "code",
   "execution_count": 20,
   "id": "88ec82c0",
   "metadata": {
    "execution": {
     "iopub.execute_input": "2022-02-25T10:16:30.648892Z",
     "iopub.status.busy": "2022-02-25T10:16:30.647852Z",
     "iopub.status.idle": "2022-02-25T10:16:30.649725Z",
     "shell.execute_reply": "2022-02-25T10:16:30.650302Z",
     "shell.execute_reply.started": "2022-02-25T10:02:16.179996Z"
    },
    "papermill": {
     "duration": 0.061314,
     "end_time": "2022-02-25T10:16:30.650501",
     "exception": false,
     "start_time": "2022-02-25T10:16:30.589187",
     "status": "completed"
    },
    "tags": []
   },
   "outputs": [],
   "source": [
    "#step_6.b.hint()"
   ]
  },
  {
   "cell_type": "code",
   "execution_count": 21,
   "id": "05ec3e09",
   "metadata": {
    "execution": {
     "iopub.execute_input": "2022-02-25T10:16:30.759079Z",
     "iopub.status.busy": "2022-02-25T10:16:30.758083Z",
     "iopub.status.idle": "2022-02-25T10:16:30.765542Z",
     "shell.execute_reply": "2022-02-25T10:16:30.766302Z",
     "shell.execute_reply.started": "2022-02-25T10:02:17.452936Z"
    },
    "papermill": {
     "duration": 0.064069,
     "end_time": "2022-02-25T10:16:30.766548",
     "exception": false,
     "start_time": "2022-02-25T10:16:30.702479",
     "status": "completed"
    },
    "tags": []
   },
   "outputs": [
    {
     "data": {
      "application/javascript": [
       "parent.postMessage({\"jupyterEvent\": \"custom.exercise_interaction\", \"data\": {\"interactionType\": 3, \"questionType\": 4, \"questionId\": \"6.2_ThinkColorReg\", \"learnToolsVersion\": \"0.3.4\", \"valueTowardsCompletion\": 0.0, \"failureMessage\": \"\", \"exceptionClass\": \"\", \"trace\": \"\", \"outcomeType\": 4}}, \"*\")"
      ],
      "text/plain": [
       "<IPython.core.display.Javascript object>"
      ]
     },
     "metadata": {},
     "output_type": "display_data"
    },
    {
     "data": {
      "text/markdown": [
       "<span style=\"color:#33cc99\">Solution:</span> We'll begin with the regression line for chocolate candies. Since this line has a slightly positive slope, we can say that more expensive chocolate candies tend to be more popular (than relatively cheaper chocolate candies).  Likewise, since the regression line for candies without chocolate has a negative slope, we can say that if candies don't contain chocolate, they tend to be more popular when they are cheaper.  One important note, however, is that the dataset is quite small -- so we shouldn't invest too much trust in these patterns!  To inspire more confidence in the results, we should add more candies to the dataset."
      ],
      "text/plain": [
       "Solution: We'll begin with the regression line for chocolate candies. Since this line has a slightly positive slope, we can say that more expensive chocolate candies tend to be more popular (than relatively cheaper chocolate candies).  Likewise, since the regression line for candies without chocolate has a negative slope, we can say that if candies don't contain chocolate, they tend to be more popular when they are cheaper.  One important note, however, is that the dataset is quite small -- so we shouldn't invest too much trust in these patterns!  To inspire more confidence in the results, we should add more candies to the dataset."
      ]
     },
     "metadata": {},
     "output_type": "display_data"
    }
   ],
   "source": [
    "# Check your answer (Run this code cell to receive credit!)\n",
    "step_6.b.solution()"
   ]
  },
  {
   "cell_type": "markdown",
   "id": "cd1b9059",
   "metadata": {
    "papermill": {
     "duration": 0.05562,
     "end_time": "2022-02-25T10:16:30.877067",
     "exception": false,
     "start_time": "2022-02-25T10:16:30.821447",
     "status": "completed"
    },
    "tags": []
   },
   "source": [
    "## Step 7: Everybody loves chocolate.\n",
    "\n",
    "#### Part A\n",
    "\n",
    "Create a categorical scatter plot to highlight the relationship between `'chocolate'` and `'winpercent'`.  Put `'chocolate'` on the (horizontal) x-axis, and `'winpercent'` on the (vertical) y-axis."
   ]
  },
  {
   "cell_type": "code",
   "execution_count": 22,
   "id": "ecbb943a",
   "metadata": {
    "execution": {
     "iopub.execute_input": "2022-02-25T10:16:30.992033Z",
     "iopub.status.busy": "2022-02-25T10:16:30.990956Z",
     "iopub.status.idle": "2022-02-25T10:16:31.210268Z",
     "shell.execute_reply": "2022-02-25T10:16:31.210895Z",
     "shell.execute_reply.started": "2022-02-25T10:10:04.49237Z"
    },
    "papermill": {
     "duration": 0.280005,
     "end_time": "2022-02-25T10:16:31.211085",
     "exception": false,
     "start_time": "2022-02-25T10:16:30.931080",
     "status": "completed"
    },
    "tags": []
   },
   "outputs": [
    {
     "data": {
      "application/javascript": [
       "parent.postMessage({\"jupyterEvent\": \"custom.exercise_interaction\", \"data\": {\"outcomeType\": 1, \"valueTowardsCompletion\": 0.3333333333333333, \"interactionType\": 1, \"questionType\": 2, \"questionId\": \"7.1_PlotSwarm\", \"learnToolsVersion\": \"0.3.4\", \"failureMessage\": \"\", \"exceptionClass\": \"\", \"trace\": \"\"}}, \"*\")"
      ],
      "text/plain": [
       "<IPython.core.display.Javascript object>"
      ]
     },
     "metadata": {},
     "output_type": "display_data"
    },
    {
     "data": {
      "text/markdown": [
       "<span style=\"color:#33cc33\">Correct</span>"
      ],
      "text/plain": [
       "Correct"
      ]
     },
     "metadata": {},
     "output_type": "display_data"
    },
    {
     "data": {
      "image/png": "[encoded data removed]",
      "text/plain": [
       "<Figure size 432x288 with 1 Axes>"
      ]
     },
     "metadata": {
      "needs_background": "light"
     },
     "output_type": "display_data"
    }
   ],
   "source": [
    "# Scatter plot showing the relationship between 'chocolate' and 'winpercent'\n",
    "sns.swarmplot(x=candy_data['chocolate'],y=candy_data['winpercent']) # Your code here\n",
    "\n",
    "# Check your answer\n",
    "step_7.a.check()"
   ]
  },
  {
   "cell_type": "code",
   "execution_count": 23,
   "id": "f9e707bc",
   "metadata": {
    "execution": {
     "iopub.execute_input": "2022-02-25T10:16:31.343012Z",
     "iopub.status.busy": "2022-02-25T10:16:31.342238Z",
     "iopub.status.idle": "2022-02-25T10:16:31.345904Z",
     "shell.execute_reply": "2022-02-25T10:16:31.345190Z",
     "shell.execute_reply.started": "2022-02-25T10:10:33.346358Z"
    },
    "papermill": {
     "duration": 0.074408,
     "end_time": "2022-02-25T10:16:31.346056",
     "exception": false,
     "start_time": "2022-02-25T10:16:31.271648",
     "status": "completed"
    },
    "tags": []
   },
   "outputs": [],
   "source": [
    "# Lines below will give you a hint or solution code\n",
    "#step_7.a.hint()\n",
    "#step_7.a.solution_plot()"
   ]
  },
  {
   "cell_type": "markdown",
   "id": "3a06bc9f",
   "metadata": {
    "papermill": {
     "duration": 0.058835,
     "end_time": "2022-02-25T10:16:31.461433",
     "exception": false,
     "start_time": "2022-02-25T10:16:31.402598",
     "status": "completed"
    },
    "tags": []
   },
   "source": [
    "#### Part B\n",
    "\n",
    "You decide to dedicate a section of your report to the fact that chocolate candies tend to be more popular than candies without chocolate.  Which plot is more appropriate to tell this story: the plot from **Step 6**, or the plot from **Step 7**?"
   ]
  },
  {
   "cell_type": "code",
   "execution_count": 24,
   "id": "e45a3261",
   "metadata": {
    "execution": {
     "iopub.execute_input": "2022-02-25T10:16:31.582448Z",
     "iopub.status.busy": "2022-02-25T10:16:31.581716Z",
     "iopub.status.idle": "2022-02-25T10:16:31.584712Z",
     "shell.execute_reply": "2022-02-25T10:16:31.585353Z",
     "shell.execute_reply.started": "2022-02-25T10:12:20.458837Z"
    },
    "papermill": {
     "duration": 0.067474,
     "end_time": "2022-02-25T10:16:31.585571",
     "exception": false,
     "start_time": "2022-02-25T10:16:31.518097",
     "status": "completed"
    },
    "tags": []
   },
   "outputs": [],
   "source": [
    "#step_7.b.hint()"
   ]
  },
  {
   "cell_type": "code",
   "execution_count": 25,
   "id": "4a582c9f",
   "metadata": {
    "execution": {
     "iopub.execute_input": "2022-02-25T10:16:31.708119Z",
     "iopub.status.busy": "2022-02-25T10:16:31.705706Z",
     "iopub.status.idle": "2022-02-25T10:16:31.713193Z",
     "shell.execute_reply": "2022-02-25T10:16:31.713773Z",
     "shell.execute_reply.started": "2022-02-25T10:12:22.057202Z"
    },
    "papermill": {
     "duration": 0.070169,
     "end_time": "2022-02-25T10:16:31.713945",
     "exception": false,
     "start_time": "2022-02-25T10:16:31.643776",
     "status": "completed"
    },
    "tags": []
   },
   "outputs": [
    {
     "data": {
      "application/javascript": [
       "parent.postMessage({\"jupyterEvent\": \"custom.exercise_interaction\", \"data\": {\"interactionType\": 3, \"questionType\": 4, \"questionId\": \"7.2_ThinkSwarm\", \"learnToolsVersion\": \"0.3.4\", \"valueTowardsCompletion\": 0.0, \"failureMessage\": \"\", \"exceptionClass\": \"\", \"trace\": \"\", \"outcomeType\": 4}}, \"*\")"
      ],
      "text/plain": [
       "<IPython.core.display.Javascript object>"
      ]
     },
     "metadata": {},
     "output_type": "display_data"
    },
    {
     "data": {
      "text/markdown": [
       "<span style=\"color:#33cc99\">Solution:</span> In this case, the categorical scatter plot from **Step 7** is the more appropriate plot. While both plots tell the desired story, the plot from **Step 6** conveys far more information that could distract from the main point."
      ],
      "text/plain": [
       "Solution: In this case, the categorical scatter plot from **Step 7** is the more appropriate plot. While both plots tell the desired story, the plot from **Step 6** conveys far more information that could distract from the main point."
      ]
     },
     "metadata": {},
     "output_type": "display_data"
    }
   ],
   "source": [
    "# Check your answer (Run this code cell to receive credit!)\n",
    "step_7.b.solution()"
   ]
  },
  {
   "cell_type": "markdown",
   "id": "5df2d087",
   "metadata": {
    "papermill": {
     "duration": 0.060839,
     "end_time": "2022-02-25T10:16:31.834806",
     "exception": false,
     "start_time": "2022-02-25T10:16:31.773967",
     "status": "completed"
    },
    "tags": []
   },
   "source": [
    "## Keep going\n",
    "\n",
    "Explore **[histograms and density plots](https://www.kaggle.com/alexisbcook/distributions)**."
   ]
  },
  {
   "cell_type": "markdown",
   "id": "5504e8f5",
   "metadata": {
    "papermill": {
     "duration": 0.059374,
     "end_time": "2022-02-25T10:16:31.955233",
     "exception": false,
     "start_time": "2022-02-25T10:16:31.895859",
     "status": "completed"
    },
    "tags": []
   },
   "source": [
    "---\n",
    "\n",
    "\n",
    "\n",
    "\n",
    "*Have questions or comments? Visit the [course discussion forum](https://www.kaggle.com/learn/data-visualization/discussion) to chat with other learners.*"
   ]
  }
 ],
 "metadata": {
  "kernelspec": {
   "display_name": "Python 3",
   "language": "python",
   "name": "python3"
  },
  "language_info": {
   "codemirror_mode": {
    "name": "ipython",
    "version": 3
   },
   "file_extension": ".py",
   "mimetype": "text/x-python",
   "name": "python",
   "nbconvert_exporter": "python",
   "pygments_lexer": "ipython3",
   "version": "3.7.12"
  },
  "papermill": {
   "default_parameters": {},
   "duration": 18.93748,
   "end_time": "2022-02-25T10:16:32.735759",
   "environment_variables": {},
   "exception": null,
   "input_path": "__notebook__.ipynb",
   "output_path": "__notebook__.ipynb",
   "parameters": {},
   "start_time": "2022-02-25T10:16:13.798279",
   "version": "2.3.3"
  }
 },
 "nbformat": 4,
 "nbformat_minor": 5
}
